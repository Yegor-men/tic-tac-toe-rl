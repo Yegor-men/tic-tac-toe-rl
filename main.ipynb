{
 "cells": [
  {
   "metadata": {
    "ExecuteTime": {
     "end_time": "2025-02-11T05:35:48.231023Z",
     "start_time": "2025-02-11T05:35:48.228367Z"
    }
   },
   "cell_type": "code",
   "source": [
    "import torch\n",
    "\n",
    "seed = 42\n",
    "\n",
    "torch.manual_seed(seed)\n",
    "torch.cuda.manual_seed_all(seed)\n",
    "\n",
    "device = torch.device(\"cuda\" if torch.cuda.is_available() else \"cpu\")"
   ],
   "id": "7c1591fa84f2a956",
   "outputs": [],
   "execution_count": 103
  },
  {
   "metadata": {
    "collapsed": true,
    "ExecuteTime": {
     "end_time": "2025-02-11T05:35:48.241081Z",
     "start_time": "2025-02-11T05:35:48.233889Z"
    }
   },
   "cell_type": "code",
   "source": [
    "import torch\n",
    "\n",
    "\n",
    "class Board:\n",
    "    def __init__(self) -> None:\n",
    "        self.current_player = 1\n",
    "        self.board = torch.zeros(9, device=device)\n",
    "        self.game_history = []\n",
    "\n",
    "    def reset_board(self):\n",
    "        self.current_player = 1\n",
    "        self.board = torch.zeros(9, device=device)\n",
    "        self.game_history = []\n",
    "\n",
    "    def get_game_state(self) -> tuple:\n",
    "        curr_player = torch.Tensor([self.current_player]).to(device)\n",
    "        board = self.board\n",
    "\n",
    "        legality_matrix = torch.zeros_like(self.board, device=device)\n",
    "        for i, element in enumerate(self.board):\n",
    "            if torch.round(torch.abs(element)).item() == 0:\n",
    "                legality_matrix[i] = 1\n",
    "            else:\n",
    "                legality_matrix[i] = 0\n",
    "\n",
    "        return torch.cat([curr_player, board]), legality_matrix\n",
    "\n",
    "    def check_if_game_over(self) -> tuple:\n",
    "        game_over = False\n",
    "\n",
    "        vis_board = self.board.reshape(3, 3)\n",
    "\n",
    "        row_sums = torch.round(torch.sum(vis_board, dim=1))\n",
    "        col_sums = torch.round(torch.sum(vis_board, dim=0))\n",
    "        diag1_sum = torch.round(torch.sum(torch.diag(vis_board)))\n",
    "        diag2_sum = torch.round(torch.sum(torch.diag(torch.flip(vis_board, dims=[1]))))\n",
    "\n",
    "        all_sums = torch.cat((row_sums, col_sums, diag1_sum.unsqueeze(0), diag2_sum.unsqueeze(0)), dim=0)\n",
    "\n",
    "        for i, element in enumerate(all_sums):\n",
    "            if abs(element.item()) == 3:\n",
    "                game_over = True\n",
    "                return True, element.item() / 3\n",
    "        if not game_over:\n",
    "            draw = True\n",
    "            for i, element in enumerate(self.board):\n",
    "                if torch.round(element).item() == 0:\n",
    "                    draw = False\n",
    "            if draw:\n",
    "                return True, 0\n",
    "            else:\n",
    "                return False, 0\n",
    "\n",
    "    def player_make_turn(self, where_player_went: int) -> None:\n",
    "        g_state, l_matrix = self.get_game_state()\n",
    "        self.game_history.append((g_state, where_player_went, l_matrix))\n",
    "        self.board[where_player_went] = self.current_player\n",
    "        self.current_player = -self.current_player\n",
    "\n",
    "    def set_winner(self, winner: int) -> tuple:\n",
    "        good_moves, bad_moves, neutral_moves = [], [], []\n",
    "        if winner == 0:\n",
    "            neutral_moves = self.game_history.copy()\n",
    "        else:\n",
    "            for i, (g_state, p_choice, l_matrix) in enumerate(self.game_history):\n",
    "                if winner == g_state[0]:\n",
    "                    good_moves.append((g_state, p_choice, l_matrix))\n",
    "                else:\n",
    "                    bad_moves.append((g_state, p_choice, l_matrix))\n",
    "\n",
    "        return good_moves, bad_moves, neutral_moves\n",
    "\n",
    "\n",
    "TTT = Board()"
   ],
   "id": "initial_id",
   "outputs": [],
   "execution_count": 104
  },
  {
   "metadata": {
    "ExecuteTime": {
     "end_time": "2025-02-11T05:35:48.287426Z",
     "start_time": "2025-02-11T05:35:48.282580Z"
    }
   },
   "cell_type": "code",
   "source": [
    "import torch\n",
    "from torch import nn\n",
    "\n",
    "\n",
    "class Model(nn.Module):\n",
    "    def __init__(self):\n",
    "        super().__init__()\n",
    "\n",
    "        self.tanh = nn.Tanh()\n",
    "        self.lrelu = nn.LeakyReLU(negative_slope=0.2)\n",
    "        self.softmax = nn.Softmax(dim=0)\n",
    "\n",
    "        self.layers = nn.Sequential(\n",
    "            nn.Linear(in_features=10, out_features=32),\n",
    "            self.lrelu,\n",
    "            nn.Linear(in_features=32, out_features=32),\n",
    "            self.lrelu,\n",
    "            nn.Linear(in_features=32, out_features=32),\n",
    "            self.lrelu,\n",
    "            nn.Linear(in_features=32, out_features=9),\n",
    "        )\n",
    "\n",
    "    def forward(self, x: torch.Tensor, leg_matrix: torch.Tensor) -> torch.Tensor:\n",
    "        x = self.layers(x)\n",
    "        # x = (self.tanh(x) + 1) / 2\n",
    "        x = x.masked_fill(leg_matrix == 0, float('-99999999999'))\n",
    "        return x\n",
    "\n",
    "\n",
    "model = Model().to(device)"
   ],
   "id": "3757b767f312565e",
   "outputs": [],
   "execution_count": 105
  },
  {
   "metadata": {
    "ExecuteTime": {
     "end_time": "2025-02-11T05:35:48.332980Z",
     "start_time": "2025-02-11T05:35:48.330191Z"
    }
   },
   "cell_type": "code",
   "source": [
    "def play_machine_only():\n",
    "    TTT.reset_board()\n",
    "    gameover = False\n",
    "    while not gameover:\n",
    "        is_over, player = TTT.check_if_game_over()\n",
    "        if not is_over:\n",
    "            g_state, l_matrix = TTT.get_game_state()\n",
    "            raw_logits = model(g_state, l_matrix)\n",
    "            softmax_logits = model.softmax(raw_logits)\n",
    "            choice = torch.argmax(softmax_logits).item()\n",
    "            TTT.player_make_turn(choice)\n",
    "        else:\n",
    "            # gameover = True\n",
    "            g_moves, b_moves, n_moves = TTT.set_winner(player)\n",
    "            return g_moves, b_moves, n_moves"
   ],
   "id": "144677d23a9ab69e",
   "outputs": [],
   "execution_count": 106
  },
  {
   "metadata": {
    "ExecuteTime": {
     "end_time": "2025-02-11T05:35:48.379679Z",
     "start_time": "2025-02-11T05:35:48.375199Z"
    }
   },
   "cell_type": "code",
   "source": [
    "def play_with_player(playerturn: bool = True):\n",
    "    TTT.reset_board()\n",
    "    gameover = False\n",
    "    print(TTT.board.reshape(3, 3), end=\"\\n\\n\")\n",
    "    while not gameover:\n",
    "        is_over, player = TTT.check_if_game_over()\n",
    "        if not is_over:\n",
    "            if playerturn:\n",
    "                player_index = int(input(f\"{TTT.board.reshape(3, 3)}\\n\\nWhere to go? \"))\n",
    "                TTT.player_make_turn(player_index)\n",
    "                print(TTT.board.reshape(3, 3), end=\"\\n\\n\")\n",
    "                playerturn = False\n",
    "            else:\n",
    "                g_state, l_matrix = TTT.get_game_state()\n",
    "                raw_logits = model(g_state, l_matrix)\n",
    "                softmax_logits = model.softmax(raw_logits)\n",
    "                choice = torch.argmax(softmax_logits).item()\n",
    "                TTT.player_make_turn(choice)\n",
    "                # print(TTT.board.reshape(3, 3), end=\"\\n\\n\")\n",
    "                playerturn = True\n",
    "        else:\n",
    "            gameover = True\n",
    "            g_moves, b_moves, n_moves = TTT.set_winner(player)\n",
    "            if playerturn:\n",
    "                print(\"Machine won\")\n",
    "            else:\n",
    "                print(\"Human won\")\n",
    "            # return g_moves, b_moves, n_moves"
   ],
   "id": "be7163cd464847f2",
   "outputs": [],
   "execution_count": 107
  },
  {
   "metadata": {
    "ExecuteTime": {
     "end_time": "2025-02-11T05:35:48.428295Z",
     "start_time": "2025-02-11T05:35:48.423557Z"
    }
   },
   "cell_type": "code",
   "source": [
    "import random\n",
    "\n",
    "\n",
    "def play_against_bot(rounds):\n",
    "    wins, draws, losses = 0, 0, 0\n",
    "    for i in range(rounds):\n",
    "        if (i + 1) % 10 == 0: print(f\"Round {i + 1}\")\n",
    "        machinefirst = random.choice([True, False])\n",
    "        machineturn = True if machinefirst else False\n",
    "        TTT.reset_board()\n",
    "        while True:\n",
    "            is_over, player = TTT.check_if_game_over()\n",
    "            if is_over:\n",
    "                break\n",
    "            else:\n",
    "                g_state, l_matrix = TTT.get_game_state()\n",
    "                if machineturn:\n",
    "                    raw_logits = model(g_state, l_matrix)\n",
    "                    softmax_logits = model.softmax(raw_logits)\n",
    "                    choice = torch.argmax(softmax_logits).item()\n",
    "                    TTT.player_make_turn(choice)\n",
    "                    machineturn = False\n",
    "                else:\n",
    "                    proper_choice = False\n",
    "                    while not proper_choice:\n",
    "                        random_index = random.randint(0, 8)\n",
    "                        if l_matrix[random_index] == 1:\n",
    "                            proper_choice = True\n",
    "                    TTT.player_make_turn(random_index)\n",
    "                    machineturn = True\n",
    "        is_over, player = TTT.check_if_game_over()\n",
    "        if player == 0:\n",
    "            draws += 1\n",
    "        elif (player == 1 and machinefirst) or (player == -1 and not machinefirst):\n",
    "            wins += 1\n",
    "        else:\n",
    "            losses += 1\n",
    "\n",
    "    print(f\"Wins: {wins:,} | Draws: {draws:,} | Losses: {losses:,}\")\n",
    "    print(f\"WR: {(wins/rounds)*100:.2f}% | DR: {(draws/rounds)*100:.2f}% | LR: {(losses/rounds)*100:.2f}%\")"
   ],
   "id": "4c2eca5f29b82ee2",
   "outputs": [],
   "execution_count": 108
  },
  {
   "metadata": {
    "jupyter": {
     "is_executing": true
    },
    "ExecuteTime": {
     "start_time": "2025-02-11T05:35:48.515634Z"
    }
   },
   "cell_type": "code",
   "source": [
    "import torch\n",
    "\n",
    "EPOCHS = 1000\n",
    "LEARNING_RATE = 0.1\n",
    "\n",
    "loss_fn = nn.BCEWithLogitsLoss()\n",
    "optimizer = torch.optim.Adam(model.parameters(), lr=LEARNING_RATE)\n",
    "\n",
    "for epoch in range(EPOCHS):\n",
    "    if (epoch + 1) % 10 == 0: print(f\"E {epoch + 1:,} - {((epoch + 1) / EPOCHS) * 100:.2f}%\")\n",
    "    model.eval()\n",
    "\n",
    "    with torch.no_grad():\n",
    "        g, b, n = play_machine_only()\n",
    "        good, bad, neutral = [], [], []\n",
    "        for index, (g_state, p_choice, l_matrix) in enumerate(g):\n",
    "            onehot = torch.zeros(9, device=device)\n",
    "            onehot[p_choice] = 1.0\n",
    "            good.append((g_state, onehot, l_matrix))\n",
    "        for index, (g_state, p_choice, l_matrix) in enumerate(b):\n",
    "            onehot = torch.ones(9, device=device)\n",
    "            onehot[p_choice] = 0.0\n",
    "            bad.append((g_state, onehot, l_matrix))\n",
    "        for index, (g_state, p_choice, l_matrix) in enumerate(n):\n",
    "            onehot = torch.full(size=(9,), fill_value=0.5, device=device)\n",
    "            onehot[p_choice] = 0.0\n",
    "            neutral.append((g_state, onehot, l_matrix))\n",
    "        game_positions = good + bad + neutral\n",
    "\n",
    "    model.train()\n",
    "    optimizer.zero_grad()\n",
    "\n",
    "    for index, (g, p, l) in enumerate(game_positions):\n",
    "        outputs = model(g, l)\n",
    "        loss = loss_fn(outputs, p)\n",
    "        loss.backward()\n",
    "\n",
    "    optimizer.step()"
   ],
   "id": "87a645f5d965607",
   "outputs": [
    {
     "name": "stdout",
     "output_type": "stream",
     "text": [
      "E 10 - 1.00%\n",
      "E 20 - 2.00%\n",
      "E 30 - 3.00%\n",
      "E 40 - 4.00%\n",
      "E 50 - 5.00%\n",
      "E 60 - 6.00%\n",
      "E 70 - 7.00%\n",
      "E 80 - 8.00%\n",
      "E 90 - 9.00%\n",
      "E 100 - 10.00%\n",
      "E 110 - 11.00%\n",
      "E 120 - 12.00%\n",
      "E 130 - 13.00%\n",
      "E 140 - 14.00%\n",
      "E 150 - 15.00%\n"
     ]
    }
   ],
   "execution_count": null
  },
  {
   "metadata": {},
   "cell_type": "code",
   "source": "play_against_bot(1000)",
   "id": "4534ff30bb53ad8d",
   "outputs": [],
   "execution_count": null
  }
 ],
 "metadata": {
  "kernelspec": {
   "display_name": "Python 3",
   "language": "python",
   "name": "python3"
  },
  "language_info": {
   "codemirror_mode": {
    "name": "ipython",
    "version": 2
   },
   "file_extension": ".py",
   "mimetype": "text/x-python",
   "name": "python",
   "nbconvert_exporter": "python",
   "pygments_lexer": "ipython2",
   "version": "2.7.6"
  }
 },
 "nbformat": 4,
 "nbformat_minor": 5
}
