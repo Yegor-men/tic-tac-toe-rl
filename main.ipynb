{
 "cells": [
  {
   "metadata": {
    "ExecuteTime": {
     "end_time": "2025-02-10T11:12:14.883843Z",
     "start_time": "2025-02-10T11:12:14.880310Z"
    }
   },
   "cell_type": "code",
   "source": [
    "import torch\n",
    "\n",
    "seed = 42\n",
    "\n",
    "torch.manual_seed(seed)\n",
    "torch.cuda.manual_seed_all(seed)\n",
    "\n",
    "device = torch.device(\"cuda\" if torch.cuda.is_available() else \"cpu\")"
   ],
   "id": "7c1591fa84f2a956",
   "outputs": [],
   "execution_count": 254
  },
  {
   "metadata": {
    "collapsed": true,
    "ExecuteTime": {
     "end_time": "2025-02-10T11:12:14.930975Z",
     "start_time": "2025-02-10T11:12:14.925027Z"
    }
   },
   "cell_type": "code",
   "source": [
    "import torch\n",
    "\n",
    "\n",
    "class Board:\n",
    "    def __init__(self) -> None:\n",
    "        self.current_player = 1\n",
    "\n",
    "        self.board = torch.zeros(9)\n",
    "\n",
    "        self.game_history = []\n",
    "\n",
    "    def get_legality_matrix(self) -> torch.Tensor:\n",
    "        legality_matrix = torch.zeros_like(self.board)\n",
    "        for index, element in enumerate(self.board):\n",
    "            if torch.round(torch.abs(element)).item() == 0:\n",
    "                legality_matrix[index] = 1\n",
    "            else:\n",
    "                legality_matrix[index] = 0\n",
    "\n",
    "        return legality_matrix\n",
    "\n",
    "    def get_game_state(self) -> torch.Tensor:\n",
    "        curr_player = torch.Tensor([self.current_player])\n",
    "        board = self.board\n",
    "\n",
    "        return torch.cat([curr_player, board])\n",
    "\n",
    "    def check_if_game_over(self) -> tuple:\n",
    "        draw = True\n",
    "        for index, element in enumerate(self.board):\n",
    "            if torch.round(element).item() == 0:\n",
    "                draw = False\n",
    "        if draw:\n",
    "            return True, 0\n",
    "        else:\n",
    "            vis_board = self.board.reshape(3, 3)\n",
    "\n",
    "            row_sums = torch.round(torch.sum(vis_board, dim=1))\n",
    "            col_sums = torch.round(torch.sum(vis_board, dim=0))\n",
    "            diag1_sum = torch.round(torch.sum(torch.diag(vis_board)))\n",
    "            diag2_sum = torch.round(torch.sum(torch.diag(torch.flip(vis_board, dims=[1]))))\n",
    "\n",
    "            all_sums = torch.cat((row_sums, col_sums, diag1_sum.unsqueeze(0), diag2_sum.unsqueeze(0)), dim=0)\n",
    "\n",
    "            for index, element in enumerate(all_sums):\n",
    "                if abs(element.item()) == 3:\n",
    "                    return True, element.item() / 3\n",
    "\n",
    "        return False, 0\n",
    "\n",
    "    def player_make_turn(self, where_player_went: int) -> None:\n",
    "        self.game_history.append((self.get_game_state(), where_player_went))\n",
    "        self.board[where_player_went] = self.current_player\n",
    "        self.current_player = -self.current_player\n",
    "\n",
    "    def set_winner(self, winner: int) -> tuple:\n",
    "        good_moves, bad_moves, neutral_moves = [], [], []\n",
    "        if winner == 0:\n",
    "            neutral_moves = self.game_history.copy()\n",
    "        else:\n",
    "            for index, (game_state, player_choice) in enumerate(self.game_history):\n",
    "                if winner == game_state[0]:\n",
    "                    good_moves.append((game_state, player_choice))\n",
    "                else:\n",
    "                    bad_moves.append((game_state, player_choice))\n",
    "\n",
    "        return good_moves, bad_moves, neutral_moves\n",
    "\n",
    "\n",
    "TTT = Board()"
   ],
   "id": "initial_id",
   "outputs": [],
   "execution_count": 255
  },
  {
   "metadata": {
    "ExecuteTime": {
     "end_time": "2025-02-10T11:12:14.977703Z",
     "start_time": "2025-02-10T11:12:14.973647Z"
    }
   },
   "cell_type": "code",
   "source": [
    "import torch\n",
    "from torch import nn\n",
    "\n",
    "\n",
    "class Model(nn.Module):\n",
    "    def __init__(self):\n",
    "        super().__init__()\n",
    "\n",
    "        self.tanh = nn.Tanh()\n",
    "        self.softmax = nn.Softmax()\n",
    "\n",
    "        self.layers = nn.Sequential(\n",
    "            nn.Linear(in_features=10, out_features=32),\n",
    "            self.tanh,\n",
    "            nn.Linear(in_features=32, out_features=32),\n",
    "            self.tanh,\n",
    "            nn.Linear(in_features=32, out_features=32),\n",
    "            self.tanh,\n",
    "            nn.Linear(in_features=32, out_features=9),\n",
    "        )\n",
    "\n",
    "    def forward(self, x: torch.Tensor, legality_matrix: torch.Tensor) -> torch.Tensor:\n",
    "        x = self.layers(x)\n",
    "        x = (self.tanh(x) + 1) / 2\n",
    "        x = legality_matrix * x\n",
    "        x = self.softmax(x)\n",
    "        return x\n",
    "\n",
    "\n",
    "model = Model()"
   ],
   "id": "3757b767f312565e",
   "outputs": [],
   "execution_count": 256
  },
  {
   "metadata": {
    "ExecuteTime": {
     "end_time": "2025-02-10T11:12:15.022644Z",
     "start_time": "2025-02-10T11:12:15.019906Z"
    }
   },
   "cell_type": "code",
   "source": [
    "def play_one_game():\n",
    "    game_over = False\n",
    "    while not game_over:\n",
    "        logits = model(TTT.get_game_state(), TTT.get_legality_matrix())\n",
    "        choice = torch.argmax(logits).item()\n",
    "        TTT.player_make_turn(choice)\n",
    "        is_over, player = TTT.check_if_game_over()\n",
    "        if is_over:\n",
    "            g_moves, b_moves, n_moves = TTT.set_winner(player)\n",
    "            print(TTT.board.reshape(3,3))\n",
    "            return g_moves, b_moves, n_moves"
   ],
   "id": "144677d23a9ab69e",
   "outputs": [],
   "execution_count": 257
  },
  {
   "metadata": {
    "ExecuteTime": {
     "end_time": "2025-02-10T11:12:15.073136Z",
     "start_time": "2025-02-10T11:12:15.065516Z"
    }
   },
   "cell_type": "code",
   "source": [
    "g, b, n = play_one_game()\n",
    "print(g, end='\\n\\n')\n",
    "print(b, end='\\n\\n')\n",
    "print(n, end='\\n\\n')"
   ],
   "id": "87a645f5d965607",
   "outputs": [
    {
     "name": "stdout",
     "output_type": "stream",
     "text": [
      "tensor([[ 1.,  1., -1.],\n",
      "        [ 0.,  1.,  1.],\n",
      "        [-1., -1., -1.]])\n",
      "[(tensor([-1.,  0.,  0.,  0.,  0.,  0.,  1.,  0.,  0.,  0.]), 7), (tensor([-1.,  1.,  0.,  0.,  0.,  0.,  1.,  0., -1.,  0.]), 8), (tensor([-1.,  1.,  0.,  0.,  0.,  1.,  1.,  0., -1., -1.]), 2), (tensor([-1.,  1.,  1., -1.,  0.,  1.,  1.,  0., -1., -1.]), 6)]\n",
      "\n",
      "[(tensor([1., 0., 0., 0., 0., 0., 0., 0., 0., 0.]), 5), (tensor([ 1.,  0.,  0.,  0.,  0.,  0.,  1.,  0., -1.,  0.]), 0), (tensor([ 1.,  1.,  0.,  0.,  0.,  0.,  1.,  0., -1., -1.]), 4), (tensor([ 1.,  1.,  0., -1.,  0.,  1.,  1.,  0., -1., -1.]), 1)]\n",
      "\n",
      "[]\n",
      "\n"
     ]
    }
   ],
   "execution_count": 258
  }
 ],
 "metadata": {
  "kernelspec": {
   "display_name": "Python 3",
   "language": "python",
   "name": "python3"
  },
  "language_info": {
   "codemirror_mode": {
    "name": "ipython",
    "version": 2
   },
   "file_extension": ".py",
   "mimetype": "text/x-python",
   "name": "python",
   "nbconvert_exporter": "python",
   "pygments_lexer": "ipython2",
   "version": "2.7.6"
  }
 },
 "nbformat": 4,
 "nbformat_minor": 5
}
